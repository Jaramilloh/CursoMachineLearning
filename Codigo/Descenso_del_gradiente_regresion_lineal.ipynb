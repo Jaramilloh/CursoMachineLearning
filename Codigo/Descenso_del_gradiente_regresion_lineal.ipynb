{
  "nbformat": 4,
  "nbformat_minor": 0,
  "metadata": {
    "colab": {
      "name": "Descenso del gradiente regresion lineal.ipynb",
      "provenance": [],
      "authorship_tag": "ABX9TyMWQr45X/1xcZPQXTqqeSTA",
      "include_colab_link": true
    },
    "kernelspec": {
      "name": "python3",
      "display_name": "Python 3"
    }
  },
  "cells": [
    {
      "cell_type": "markdown",
      "metadata": {
        "id": "view-in-github",
        "colab_type": "text"
      },
      "source": [
        "<a href=\"https://colab.research.google.com/github/calderonf/CursoMachineLearning/blob/master/Codigo/Descenso_del_gradiente_regresion_lineal.ipynb\" target=\"_parent\"><img src=\"https://colab.research.google.com/assets/colab-badge.svg\" alt=\"Open In Colab\"/></a>"
      ]
    },
    {
      "cell_type": "markdown",
      "metadata": {
        "id": "HyZQsab-AoxK",
        "colab_type": "text"
      },
      "source": [
        "# Ejemplo de funciones de gradiente para caso univariada lineal"
      ]
    },
    {
      "cell_type": "code",
      "metadata": {
        "id": "sIG3VhB_AvUF",
        "colab_type": "code",
        "colab": {}
      },
      "source": [
        "#si quieren acelerar el calculo puede usar operaciones sobre vectores:\n",
        "#https://numpy.org/doc/stable/reference/routines.math.html#sums-products-differences\n",
        "import numpy as np\n",
        "import matplotlib.pyplot as plt\n",
        "def costo(theta0,theta1,x,y):\n",
        "  #donde theta0 y theta1 son los parámetros a probar,\n",
        "  #x y y son nparrays de la misma dimensión\n",
        "  n=x.size\n",
        "  #aqui podrian depurar que los tamaños de los arreglos sean iguales\n",
        "\n",
        "  #calculo del costo en la variable J\n",
        "  J=(1/(2*n))*sum(np.power(((theta0+theta1*x)-(y)),2))#terminen ustedes... \n",
        "  return J\n",
        "\n",
        "def gradientetheta0(theta0,theta1,x,y):\n",
        "  #donde theta0 y theta1 son los parámetros a probar,\n",
        "  #x y y son nparrays de la misma dimensión\n",
        "  #ver https://numpy.org/doc/stable/reference/generated/numpy.array.html\n",
        "  n=x.size\n",
        "  #aqui podrian depurar que los tamaños de los arreglos sean iguales\n",
        "  return (1/(n))*sum((theta0+theta1*x)-(y)) \n",
        "\n",
        "def gradientetheta1(theta0,theta1,x,y):\n",
        "  #donde theta0 y theta1 son los parámetros a probar,\n",
        "  #x y y son nparrays de la misma dimensión\n",
        "  #ver https://numpy.org/doc/stable/reference/generated/numpy.array.html\n",
        "  n=x.size\n",
        "  #aqui podrian depurar que los tamaños de los arreglos sean iguales\n",
        "  return  (1/(n))*sum(((theta0+theta1*x)-(y))*x) \n",
        "\n",
        "def PasoDescensoGradiente(alpha,theta0,theta1,x,y):\n",
        "  #Donde alpha es el coeficiente que multiplica al gradiente\n",
        "  #donde theta0 y theta1 son los parámetros a probar,\n",
        "  #la salida es una pareja thetaK0 y thetaK1 son los parámetros del siguiente salto\n",
        "  N1=gradientetheta0(theta0,theta1,x,y)\n",
        "  N2=gradientetheta1(theta0,theta1,x,y)\n",
        "  thetaK0=theta0-alpha*N1\n",
        "  thetaK1=theta1-alpha*N2# ojo que no es thetaK1=theta1-alpha*gradientetheta1(thetaK0,theta1,x,y)\n",
        "  return thetaK0,thetaK1\n"
      ],
      "execution_count": null,
      "outputs": []
    },
    {
      "cell_type": "code",
      "metadata": {
        "id": "jf9fWECmJlre",
        "colab_type": "code",
        "colab": {
          "base_uri": "https://localhost:8080/",
          "height": 583
        },
        "outputId": "e65e0903-3614-4816-fd6e-8b0c292a1b4c"
      },
      "source": [
        "# aqui quiero que iplementen el algoritmo del descenso del gradiente a partir de las funciones anteriores:\n",
        "\n",
        "# cargar vectores x y y \n",
        "x=np.array([1, 1.5, 2, 2.5, 3, 3.5 , 4, 4.5, 5, 5.5, 6])\n",
        "\n",
        "y=np.array([0.16,0.28,0.38,0.47,0.60,0.73,0.79,0.87,0.84,0.86,0.96])\n",
        "# iniciarcon unos theta para la hipotesis y una cantidad maxima de iteraciones\n",
        "theta0=0.001#no lo iniciemos muy lejos  0.001\n",
        "theta1=0.5#no lo iniciemos muy lejos  0.5\n",
        "iter=1000\n",
        "alpha=0.1# buen alpha 0.05\n",
        "plt.plot(x,y, 'bo')\n",
        "plt.plot(x,theta0+theta1*x)\n",
        "plt.title(\"Inicial\")\n",
        "plt.show()\n",
        "J=np.zeros((iter,1))\n",
        "# bucle del algoritmo cuenta iteraciones\n",
        "for i in range(0,iter):\n",
        "  #calculo el peso para los parametros de la hipotesis\n",
        "  J[i]=costo(theta0,theta1,x,y)\n",
        "  #calcular los siguientes parametros\n",
        "  theta0,theta1=PasoDescensoGradiente(alpha,theta0,theta1,x,y)\n",
        "  #plt.plot(x,y, 'bo')\n",
        "  #plt.plot(x,theta0+theta1*x)\n",
        "  #plt.show()\n",
        "# imprimir el menor J encontrado: \"deberia sel el último\"\n",
        "print(\"menor costo=\",J[-2],\"para Theta0 y Theta1=\",theta0,theta1)\n",
        "# theta0=0.047,theta1=0.15\n",
        "plt.plot(x,y, 'bo')\n",
        "plt.plot(x,theta0+theta1*x)\n",
        "plt.title(\"Final\")\n",
        "plt.show()\n",
        "#tarea graficar J para una que converja\n",
        "#graficar en el eje x,y los puntos y en la misma gráfica la hipotesis"
      ],
      "execution_count": null,
      "outputs": [
        {
          "output_type": "display_data",
          "data": {
            "image/png": "[encoded data removed]",
            "text/plain": [
              "<Figure size 432x288 with 1 Axes>"
            ]
          },
          "metadata": {
            "tags": [],
            "needs_background": "light"
          }
        },
        {
          "output_type": "stream",
          "text": [
            "menor costo= [0.00204459] para Theta0 y Theta1= 0.07790907658559323 0.15800000343615414\n"
          ],
          "name": "stdout"
        },
        {
          "output_type": "display_data",
          "data": {
            "image/png": "[encoded data removed]",
            "text/plain": [
              "<Figure size 432x288 with 1 Axes>"
            ]
          },
          "metadata": {
            "tags": [],
            "needs_background": "light"
          }
        }
      ]
    },
    {
      "cell_type": "markdown",
      "metadata": {
        "id": "JLEVfTLqUvgO",
        "colab_type": "text"
      },
      "source": [
        ""
      ]
    },
    {
      "cell_type": "code",
      "metadata": {
        "id": "IrN26X4mZGxA",
        "colab_type": "code",
        "colab": {
          "base_uri": "https://localhost:8080/",
          "height": 268
        },
        "outputId": "ee8664b9-bf65-47b4-b580-dbe49ecfc4f8"
      },
      "source": [
        "\n",
        "\n",
        "plt.plot(20*np.log10(J))\n",
        "plt.show()\n"
      ],
      "execution_count": null,
      "outputs": [
        {
          "output_type": "display_data",
          "data": {
            "image/png": "[encoded data removed]",
            "text/plain": [
              "<Figure size 432x288 with 1 Axes>"
            ]
          },
          "metadata": {
            "tags": [],
            "needs_background": "light"
          }
        }
      ]
    },
    {
      "cell_type": "markdown",
      "metadata": {
        "id": "olADy2HVEbAt",
        "colab_type": "text"
      },
      "source": [
        "## Ayuda para implementarlo más fácilmente y ordenado\n",
        "toda la documentación de las funciones que encuentran en numpy está en:\n",
        "\n",
        "[https://numpy.org/doc/stable/reference/routines.array-creation.html](https://numpy.org/doc/stable/reference/routines.array-creation.html)"
      ]
    },
    {
      "cell_type": "code",
      "metadata": {
        "id": "a_WD8aBgEMRT",
        "colab_type": "code",
        "colab": {
          "base_uri": "https://localhost:8080/",
          "height": 85
        },
        "outputId": "61ce1953-13f3-48ae-efba-acb83d2c08c4"
      },
      "source": [
        "a=np.array([1, 2, -1])\n",
        "b=np.array([9, 8, 7])\n",
        "c=a*b\n",
        "d=a-b\n",
        "print(\"producto:\",c)\n",
        "print(\"resta:\",d)\n",
        "e=2*a\n",
        "print(\"producto por escalar:\",e)\n",
        "f=555+a\n",
        "print(\"suma por escalar:\",f)"
      ],
      "execution_count": null,
      "outputs": [
        {
          "output_type": "stream",
          "text": [
            "producto: [ 9 16 -7]\n",
            "resta: [-8 -6 -8]\n",
            "producto por escalar: [ 2  4 -2]\n",
            "suma por escalar: [556 557 554]\n"
          ],
          "name": "stdout"
        }
      ]
    },
    {
      "cell_type": "code",
      "metadata": {
        "id": "zPDX0jhHEQK8",
        "colab_type": "code",
        "colab": {
          "base_uri": "https://localhost:8080/",
          "height": 34
        },
        "outputId": "80517c39-ab20-4a36-9464-5bcd96ac9cfc"
      },
      "source": [
        "np.power(d,2)"
      ],
      "execution_count": null,
      "outputs": [
        {
          "output_type": "execute_result",
          "data": {
            "text/plain": [
              "array([64, 36, 64])"
            ]
          },
          "metadata": {
            "tags": []
          },
          "execution_count": 50
        }
      ]
    },
    {
      "cell_type": "code",
      "metadata": {
        "id": "HXitk8kNPoJ7",
        "colab_type": "code",
        "colab": {
          "base_uri": "https://localhost:8080/",
          "height": 34
        },
        "outputId": "4dfea863-eb29-49a0-c63e-9d01dcad3426"
      },
      "source": [
        "np.sum(a)"
      ],
      "execution_count": null,
      "outputs": [
        {
          "output_type": "execute_result",
          "data": {
            "text/plain": [
              "2"
            ]
          },
          "metadata": {
            "tags": []
          },
          "execution_count": 51
        }
      ]
    },
    {
      "cell_type": "code",
      "metadata": {
        "id": "E73joXcgF7Kz",
        "colab_type": "code",
        "colab": {
          "base_uri": "https://localhost:8080/",
          "height": 34
        },
        "outputId": "24949680-c34c-40f8-8321-e84fa97b81fc"
      },
      "source": [
        "print(a,a[-1])"
      ],
      "execution_count": null,
      "outputs": [
        {
          "output_type": "stream",
          "text": [
            "[ 1  2 -1] -1\n"
          ],
          "name": "stdout"
        }
      ]
    },
    {
      "cell_type": "code",
      "metadata": {
        "id": "IKo7Fw1RERfi",
        "colab_type": "code",
        "colab": {
          "base_uri": "https://localhost:8080/",
          "height": 34
        },
        "outputId": "118cff65-d841-4db2-9e6b-8e56ef45ce01"
      },
      "source": [
        "# pueden comparar la \"forma\" del nparray con shape\n",
        "if a.size==a.size:\n",
        "  print(\"igual tamaño\")\n",
        "else:\n",
        "  print(\"Diferente tamaño\")"
      ],
      "execution_count": null,
      "outputs": [
        {
          "output_type": "stream",
          "text": [
            "igual tamaño\n"
          ],
          "name": "stdout"
        }
      ]
    }
  ]
}