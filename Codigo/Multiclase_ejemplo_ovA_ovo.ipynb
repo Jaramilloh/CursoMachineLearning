{
  "nbformat": 4,
  "nbformat_minor": 0,
  "metadata": {
    "colab": {
      "name": "Multiclase_ejemplo_ovA_ovo.ipynb",
      "provenance": [],
      "authorship_tag": "ABX9TyM5/Ei3/65Ysugb4kyJh28O",
      "include_colab_link": true
    },
    "kernelspec": {
      "name": "python3",
      "display_name": "Python 3"
    }
  },
  "cells": [
    {
      "cell_type": "markdown",
      "metadata": {
        "id": "view-in-github",
        "colab_type": "text"
      },
      "source": [
        "<a href=\"https://colab.research.google.com/github/calderonf/CursoMachineLearning/blob/master/Codigo/Multiclase_ejemplo_ovA_ovo.ipynb\" target=\"_parent\"><img src=\"https://colab.research.google.com/assets/colab-badge.svg\" alt=\"Open In Colab\"/></a>"
      ]
    },
    {
      "cell_type": "code",
      "metadata": {
        "id": "eJS9BbziyNZA",
        "colab_type": "code",
        "colab": {}
      },
      "source": [
        "from sklearn.datasets import load_iris\n",
        "from sklearn.linear_model import LogisticRegression #https://scikit-learn.org/stable/modules/generated/sklearn.linear_model.LogisticRegression.html\n",
        "from sklearn.multiclass import OneVsOneClassifier # https://scikit-learn.org/stable/modules/generated/sklearn.multiclass.OneVsOneClassifier.html\n",
        "X, y = load_iris(return_X_y=True)\n",
        "import numpy as np\n",
        "#print(\"X=\",X)\n",
        "#print(\"y=\",y)\n"
      ],
      "execution_count": null,
      "outputs": []
    },
    {
      "cell_type": "code",
      "metadata": {
        "id": "0RwDpBlPbFMo",
        "colab_type": "code",
        "colab": {
          "base_uri": "https://localhost:8080/",
          "height": 87
        },
        "outputId": "38cc1544-c954-40f4-d21d-4671339c23ef"
      },
      "source": [
        "clf = LogisticRegression(random_state=0,solver = 'liblinear',tol=0.00001,multi_class='ovr',max_iter=100)\n",
        "clf.fit(X, y)\n"
      ],
      "execution_count": null,
      "outputs": [
        {
          "output_type": "execute_result",
          "data": {
            "text/plain": [
              "LogisticRegression(C=1.0, class_weight=None, dual=False, fit_intercept=True,\n",
              "                   intercept_scaling=1, l1_ratio=None, max_iter=100,\n",
              "                   multi_class='ovr', n_jobs=None, penalty='l2', random_state=0,\n",
              "                   solver='liblinear', tol=1e-05, verbose=0, warm_start=False)"
            ]
          },
          "metadata": {
            "tags": []
          },
          "execution_count": 52
        }
      ]
    },
    {
      "cell_type": "code",
      "metadata": {
        "id": "kU9jweFWbx8b",
        "colab_type": "code",
        "colab": {
          "base_uri": "https://localhost:8080/",
          "height": 225
        },
        "outputId": "21cbaeea-f34b-4177-ae2c-69f2540b2e0f"
      },
      "source": [
        "print(\"A la entrada x= \\n\",X[[4,50,120], :],\" \\nLa salida:  \\n\",clf.predict(X[[4,50,120], :]),\"\\n\")\n",
        "print(\"El vector de hipotesis de X es: \", clf.predict_proba(X[[4,50,120], :]),\"\\n\")\n",
        "print(\"accuracy: \",clf.score(X, y))# mean accuracy on the given test data and labels"
      ],
      "execution_count": null,
      "outputs": [
        {
          "output_type": "stream",
          "text": [
            "A la entrada x= \n",
            " [[5.  3.6 1.4 0.2]\n",
            " [7.  3.2 4.7 1.4]\n",
            " [6.9 3.2 5.7 2.3]]  \n",
            "La salida:  \n",
            " [0 1 2] \n",
            "\n",
            "El vector de hipotesis de X es:  [[8.96031508e-01 1.03957293e-01 1.11992458e-05]\n",
            " [2.96027389e-02 8.61256767e-01 1.09140494e-01]\n",
            " [5.08105753e-04 2.23879926e-01 7.75611969e-01]] \n",
            "\n",
            "accuracy:  0.96\n"
          ],
          "name": "stdout"
        }
      ]
    },
    {
      "cell_type": "code",
      "metadata": {
        "id": "wE1_bq4dzba0",
        "colab_type": "code",
        "colab": {
          "base_uri": "https://localhost:8080/",
          "height": 104
        },
        "outputId": "4cd7f8fd-5428-4576-800b-eed70726a755"
      },
      "source": [
        "prob=clf.predict_proba(X[[4,50,120], :])\n",
        "print(prob)\n",
        "type(prob)\n",
        "print(prob.shape)\n",
        "probtotal=np.sum(prob,axis=1)\n",
        "print(probtotal)\n"
      ],
      "execution_count": null,
      "outputs": [
        {
          "output_type": "stream",
          "text": [
            "[[8.96031508e-01 1.03957293e-01 1.11992458e-05]\n",
            " [2.96027389e-02 8.61256767e-01 1.09140494e-01]\n",
            " [5.08105753e-04 2.23879926e-01 7.75611969e-01]]\n",
            "(3, 3)\n",
            "[1. 1. 1.]\n"
          ],
          "name": "stdout"
        }
      ]
    },
    {
      "cell_type": "code",
      "metadata": {
        "id": "lzVAhuwwdATj",
        "colab_type": "code",
        "colab": {
          "base_uri": "https://localhost:8080/",
          "height": 173
        },
        "outputId": "6ab786f6-7b14-4e99-e28d-41c15d1dd6cc"
      },
      "source": [
        "ovo=OneVsOneClassifier(LogisticRegression(random_state=0))\n",
        "ovo.fit(X, y)"
      ],
      "execution_count": null,
      "outputs": [
        {
          "output_type": "execute_result",
          "data": {
            "text/plain": [
              "OneVsOneClassifier(estimator=LogisticRegression(C=1.0, class_weight=None,\n",
              "                                                dual=False, fit_intercept=True,\n",
              "                                                intercept_scaling=1,\n",
              "                                                l1_ratio=None, max_iter=100,\n",
              "                                                multi_class='auto', n_jobs=None,\n",
              "                                                penalty='l2', random_state=0,\n",
              "                                                solver='lbfgs', tol=0.0001,\n",
              "                                                verbose=0, warm_start=False),\n",
              "                   n_jobs=None)"
            ]
          },
          "metadata": {
            "tags": []
          },
          "execution_count": 65
        }
      ]
    },
    {
      "cell_type": "code",
      "metadata": {
        "id": "SyyYwRJjdePn",
        "colab_type": "code",
        "colab": {
          "base_uri": "https://localhost:8080/",
          "height": 156
        },
        "outputId": "8a043851-0818-4f23-d393-aa9c70bb283f"
      },
      "source": [
        "print(\"A la entrada x= \\n\",X[[4,50,120], :],\" \\nLa salida:  \\n\",ovo.predict(X[[4,50,120], :]),\"\\n\")\n",
        "#print(\"El vector de hipotesis de X es: \", ovo.predict_proba(X[[4,50,120], :]),\"\\n\")\n",
        "print(\"accuracy: \",ovo.score(X, y))# mean accuracy on the given test data and labels"
      ],
      "execution_count": null,
      "outputs": [
        {
          "output_type": "stream",
          "text": [
            "A la entrada x= \n",
            " [[5.  3.6 1.4 0.2]\n",
            " [7.  3.2 4.7 1.4]\n",
            " [6.9 3.2 5.7 2.3]]  \n",
            "La salida:  \n",
            " [0 1 2] \n",
            "\n",
            "accuracy:  0.9733333333333334\n"
          ],
          "name": "stdout"
        }
      ]
    },
    {
      "cell_type": "code",
      "metadata": {
        "id": "7Nae7xvmdobM",
        "colab_type": "code",
        "colab": {}
      },
      "source": [
        ""
      ],
      "execution_count": null,
      "outputs": []
    }
  ]
}